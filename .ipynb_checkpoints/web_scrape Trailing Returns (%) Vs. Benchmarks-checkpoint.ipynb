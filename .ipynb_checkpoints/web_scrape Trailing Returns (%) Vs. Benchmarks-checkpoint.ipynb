{
 "cells": [
  {
   "cell_type": "code",
   "execution_count": 1,
   "metadata": {},
   "outputs": [],
   "source": [
    "import urllib.request\n",
    "import csv\n",
    "import re\n",
    "from bs4 import BeautifulSoup"
   ]
  },
  {
   "cell_type": "code",
   "execution_count": 2,
   "metadata": {},
   "outputs": [],
   "source": [
    "rank_page = 'https://finance.yahoo.com/quote/MALOX/performance?p=MALOX'\n",
    "req = urllib.request.Request(rank_page, headers={'User-Agent': 'Mozilla/5.0 (Macintosh; Intel Mac OS X 10_14_2) AppleWebKit/537.36 (KHTML, like Gecko) Chrome/73.0.3683.86 Safari/537.36'})\n",
    "page = urllib.request.urlopen(req)\n",
    "soup = BeautifulSoup(page, 'html.parser')"
   ]
  },
  {
   "cell_type": "code",
   "execution_count": 3,
   "metadata": {},
   "outputs": [],
   "source": [
    "divTags = soup.find('div', attrs={'class': 'Mb(25px)', 'data-reactid': '56'}).find_all('div')"
   ]
  },
  {
   "cell_type": "code",
   "execution_count": 4,
   "metadata": {},
   "outputs": [
    {
     "name": "stdout",
     "output_type": "stream",
     "text": [
      "Return MALOX\n",
      "Return MALOX\n",
      "YTD 6.21%\n",
      "1-Month 6.21%\n",
      "3-Month 6.21%\n",
      "1-Year 6.21%\n",
      "3-Year 5.09%\n",
      "5-Year 2.85%\n",
      "10-Year 6.08%\n",
      "Last Bull Market 11.67%\n",
      "Last Bear Market 11.67%\n"
     ]
    }
   ],
   "source": [
    "for divTag in divTags:\n",
    "    perfTitle = divTag.find('span', attrs={'class': 'W(50%) D(b) Fl(start) Ta(s)'})\n",
    "    # if perfTitle is not None:\n",
    "    #     perfTitle = perfTitle.span.text.strip()\n",
    "    if perfTitle is not None:\n",
    "        for row1 in perfTitle:\n",
    "            if row1 is not None:\n",
    "                try:\n",
    "                    row1 = row1.text.strip()\n",
    "                except:\n",
    "                    pass\n",
    "    \n",
    "\n",
    "    performances = divTag.find('span', attrs={'class': 'W(20%) D(b) Fl(start) Ta(e)'})\n",
    "    if performances is not None:\n",
    "        for row2 in performances:\n",
    "            if row2 is not None:\n",
    "                try:\n",
    "                    row2 = row2.text.strip()\n",
    "                except:\n",
    "                    pass\n",
    "        \n",
    "    #views = views.span.text.strip()\n",
    "    #views = channel.find_all('span', attrs={'class': 'Fl(start)'}).span.text.strip()\n",
    "\n",
    "    print (row1 + ' ' + row2)\n",
    "                "
   ]
  },
  {
   "cell_type": "code",
   "execution_count": 11,
   "metadata": {},
   "outputs": [
    {
     "name": "stdout",
     "output_type": "stream",
     "text": [
      "1   Return\n",
      "1   Return\n",
      "1   YTD\n",
      "1   1-Month\n",
      "1   3-Month\n",
      "1   1-Year\n",
      "1   3-Year\n",
      "1   5-Year\n",
      "1   10-Year\n",
      "1   Last Bull Market\n",
      "1   Last Bear Market\n"
     ]
    }
   ],
   "source": [
    "for divTag in divTags:\n",
    "    perfTitle = divTag.find('span', attrs={'class': 'W(50%) D(b) Fl(start) Ta(s)'})\n",
    "    # if perfTitle is not None:\n",
    "    #     perfTitle = perfTitle.span.text.strip()\n",
    "    if perfTitle is not None:\n",
    "        for row1 in perfTitle:\n",
    "            if row1 is not None:\n",
    "                try:\n",
    "                    row1 = row1.text.strip()\n",
    "                except:\n",
    "                    pass\n",
    "        \n",
    "    #views = views.span.text.strip()\n",
    "    #views = channel.find_all('span', attrs={'class': 'Fl(start)'}).span.text.strip()\n",
    "    \n",
    "    ccount = 1\n",
    "    \n",
    "    print(ccount, \" \", row1)\n",
    "    \n",
    "    ccount = ccount + 1\n",
    "    \n",
    "                "
   ]
  },
  {
   "cell_type": "code",
   "execution_count": null,
   "metadata": {},
   "outputs": [],
   "source": []
  }
 ],
 "metadata": {
  "kernelspec": {
   "display_name": "Python 3",
   "language": "python",
   "name": "python3"
  },
  "language_info": {
   "codemirror_mode": {
    "name": "ipython",
    "version": 3
   },
   "file_extension": ".py",
   "mimetype": "text/x-python",
   "name": "python",
   "nbconvert_exporter": "python",
   "pygments_lexer": "ipython3",
   "version": "3.6.8"
  }
 },
 "nbformat": 4,
 "nbformat_minor": 2
}
