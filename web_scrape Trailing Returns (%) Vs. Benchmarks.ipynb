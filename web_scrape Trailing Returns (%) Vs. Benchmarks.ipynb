{
 "cells": [
  {
   "cell_type": "code",
   "execution_count": 2,
   "metadata": {},
   "outputs": [],
   "source": [
    "import urllib.request\n",
    "import csv\n",
    "import re\n",
    "from bs4 import BeautifulSoup"
   ]
  },
  {
   "cell_type": "code",
   "execution_count": 3,
   "metadata": {},
   "outputs": [],
   "source": [
    "rank_page = 'https://finance.yahoo.com/quote/AMRMX/performance?p=AMRMX'\n",
    "req = urllib.request.Request(rank_page, headers={'User-Agent': 'Mozilla/5.0 (Macintosh; Intel Mac OS X 10_14_2) AppleWebKit/537.36 (KHTML, like Gecko) Chrome/73.0.3683.86 Safari/537.36'})\n",
    "page = urllib.request.urlopen(req)\n",
    "soup = BeautifulSoup(page, 'html.parser')"
   ]
  },
  {
   "cell_type": "code",
   "execution_count": 5,
   "metadata": {},
   "outputs": [
    {
     "name": "stdout",
     "output_type": "stream",
     "text": [
      "['1-Year', '9.48%', '5.79%', '3-Year', '10.85%', '10.12%', '5-Year', '8.73%', '6.84%', '10-Year', '12.69%', '12.20%']\n",
      "American Funds American Mutual Fund Class A (AMRMX)\n"
     ]
    }
   ],
   "source": [
    "my_list = []\n",
    "\n",
    "one_year_row = soup.find('div', attrs={'class': \"Bdbw(1px) Bdbc($screenerBorderGray) Bdbs(s) H(25px) Pt(10px)\", 'data-reactid': \"85\"})\n",
    "\n",
    "for p in one_year_row:\n",
    "    my_list.append(p.text)\n",
    "    \n",
    "three_year_row = soup.find('div', attrs={'class': \"Bdbw(1px) Bdbc($screenerBorderGray) Bdbs(s) H(25px) Pt(10px)\", 'data-reactid': \"91\"})\n",
    "\n",
    "for p in three_year_row:\n",
    "    my_list.append(p.text)\n",
    "    \n",
    "five_year_row = soup.find('div', attrs={'class': \"Bdbw(1px) Bdbc($screenerBorderGray) Bdbs(s) H(25px) Pt(10px)\", 'data-reactid': \"97\"})\n",
    "\n",
    "for p in five_year_row:\n",
    "    my_list.append(p.text)\n",
    "\n",
    "ten_year_row = soup.find('div', attrs={'class': \"Bdbw(1px) Bdbc($screenerBorderGray) Bdbs(s) H(25px) Pt(10px)\", 'data-reactid': \"103\"})\n",
    "\n",
    "for p in ten_year_row:\n",
    "    my_list.append(p.text)\n",
    "\n",
    "name = soup.find('h1').text\n",
    "    \n",
    "one_year = my_list[0]\n",
    "one_year_perf = my_list[1]\n",
    "one_year_category_perf = my_list[2]\n",
    "\n",
    "\n",
    "print(my_list)\n",
    "print(name)"
   ]
  },
  {
   "cell_type": "code",
   "execution_count": 7,
   "metadata": {},
   "outputs": [],
   "source": [
    "rank_page2 = 'https://finance.yahoo.com/quote/JDFAX?p=JDFAX'\n",
    "req2 = urllib.request.Request(rank_page2, headers={'User-Agent': 'Mozilla/5.0 (Macintosh; Intel Mac OS X 10_14_2) AppleWebKit/537.36 (KHTML, like Gecko) Chrome/73.0.3683.86 Safari/537.36'})\n",
    "page2 = urllib.request.urlopen(req2)\n",
    "soup2 = BeautifulSoup(page2, 'html.parser')\n"
   ]
  },
  {
   "cell_type": "code",
   "execution_count": 23,
   "metadata": {},
   "outputs": [
    {
     "name": "stdout",
     "output_type": "stream",
     "text": [
      "Intermediate Core-Plus Bond\n"
     ]
    }
   ],
   "source": [
    "category = soup2.find('span', attrs={'class': 'Trsdu(0.3s) ', 'data-reactid': \"51\"}).text\n",
    "print(category)"
   ]
  },
  {
   "cell_type": "code",
   "execution_count": 24,
   "metadata": {},
   "outputs": [],
   "source": [
    "file = open('firstextract.csv', 'wt')\n",
    "writer = csv.writer(file)\n",
    "\n",
    "#write title row\n",
    "writer.writerow(['Name', 'Ticker', 'Inception Date', 'Category', 'Investment Style', '1 Year', '3 Year', '5 Year', '10 Year', 'Benchmark', 'Category 1 Yr', 'Category 3 Yr', 'Category 5 Yr', 'Category 10 Yr', 'Vs 1 Yr', 'Vs 3 Yr', 'Vs 5 Year', 'Vs 10 Yr'])\n",
    "\n",
    "writer.writerow([name.encode('utf-8'), 'Ticker', 'Inception Date', category.encode('utf-8'), 'Investment Style', my_list[1].encode('utf-8'), my_list[4].encode('utf-8'), my_list[7].encode('utf-8'), my_list[10].encode('utf-8'), 'Benchmark', my_list[2].encode('utf-8'), my_list[5].encode('utf-8'), my_list[8].encode('utf-8'), my_list[11].encode('utf-8'), 'Vs 1 Yr', 'Vs 3 Yr', 'Vs 5 Year', 'Vs 10 Yr'])\n",
    "\n",
    "file.close() \n",
    "\n"
   ]
  },
  {
   "cell_type": "code",
   "execution_count": null,
   "metadata": {},
   "outputs": [],
   "source": []
  }
 ],
 "metadata": {
  "kernelspec": {
   "display_name": "Python 3",
   "language": "python",
   "name": "python3"
  },
  "language_info": {
   "codemirror_mode": {
    "name": "ipython",
    "version": 3
   },
   "file_extension": ".py",
   "mimetype": "text/x-python",
   "name": "python",
   "nbconvert_exporter": "python",
   "pygments_lexer": "ipython3",
   "version": "3.6.8"
  }
 },
 "nbformat": 4,
 "nbformat_minor": 2
}
